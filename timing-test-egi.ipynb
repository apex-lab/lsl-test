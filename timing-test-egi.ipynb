{
 "cells": [
  {
   "cell_type": "code",
   "execution_count": 1,
   "metadata": {},
   "outputs": [],
   "source": [
    "from pyxdf import load_xdf\n",
    "import numpy as np"
   ]
  },
  {
   "cell_type": "code",
   "execution_count": 2,
   "metadata": {},
   "outputs": [],
   "source": [
    "data, header = load_xdf('egi.xdf', synchronize_clocks = False, dejitter_timestamps = True)"
   ]
  },
  {
   "cell_type": "code",
   "execution_count": 3,
   "metadata": {},
   "outputs": [],
   "source": [
    "type_dict = {data[i]['info']['type'][0]: i for i in range(len(data))}\n",
    "EEG = type_dict['EEG']\n",
    "MARKER = type_dict['Markers']"
   ]
  },
  {
   "cell_type": "code",
   "execution_count": 4,
   "metadata": {},
   "outputs": [],
   "source": [
    "ev = data[EEG]['time_series'][:,-1] == 65376. # event code\n",
    "not_ev_prev = np.logical_not(ev[:-1])\n",
    "ev = ev[1:]\n",
    "new_ev = np.logical_and(ev, not_ev_prev) # only record timestamp of event start\n",
    "new_ev = np.array([False] + new_ev.tolist())\n",
    "\n",
    "hardware_events = data[EEG]['time_stamps'][new_ev]\n",
    "software_events = data[MARKER]['time_stamps']"
   ]
  },
  {
   "cell_type": "code",
   "execution_count": 5,
   "metadata": {},
   "outputs": [
    {
     "data": {
      "text/plain": [
       "8.850954016860651"
      ]
     },
     "execution_count": 5,
     "metadata": {},
     "output_type": "execute_result"
    }
   ],
   "source": [
    "lags = []\n",
    "for event in hardware_events:\n",
    "    se = np.max(software_events[software_events < event])\n",
    "    lags.append(event - se)\n",
    "\n",
    "np.mean(lags) * 1e3 # mean offset in milliseconds"
   ]
  },
  {
   "cell_type": "code",
   "execution_count": 6,
   "metadata": {},
   "outputs": [
    {
     "data": {
      "text/plain": [
       "0.302083649368636"
      ]
     },
     "execution_count": 6,
     "metadata": {},
     "output_type": "execute_result"
    }
   ],
   "source": [
    "np.std(lags) * 1e3 # jitter in milliseconds"
   ]
  }
 ],
 "metadata": {
  "kernelspec": {
   "display_name": "Python 3",
   "language": "python",
   "name": "python3"
  },
  "language_info": {
   "codemirror_mode": {
    "name": "ipython",
    "version": 3
   },
   "file_extension": ".py",
   "mimetype": "text/x-python",
   "name": "python",
   "nbconvert_exporter": "python",
   "pygments_lexer": "ipython3",
   "version": "3.9.5"
  }
 },
 "nbformat": 4,
 "nbformat_minor": 2
}
