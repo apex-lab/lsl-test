{
 "cells": [
  {
   "cell_type": "code",
   "execution_count": 1,
   "metadata": {},
   "outputs": [],
   "source": [
    "from pyxdf import load_xdf\n",
    "import numpy as np"
   ]
  },
  {
   "cell_type": "markdown",
   "metadata": {},
   "source": [
    "The XDF file loaded below was recorded using a [Brain Products actiCHamp](https://github.com/brain-products/LSL-actiCHamp). We sent TTL pulses to the actiCHamp using an [RTBox](https://github.com/xiangruili/RTBox_py), which returned the timestamp that the pulse was actually sent reconciled to the local LSL clock -- those timestamps were recorded in a [marker stream](https://github.com/labstreaminglayer/liblsl-Python). The actiCHamp stream and the marker stream originated from the same computer, and were saved with [LabRecorder](https://github.com/labstreaminglayer/App-LabRecorder)."
   ]
  },
  {
   "cell_type": "code",
   "execution_count": 2,
   "metadata": {},
   "outputs": [],
   "source": [
    "data, header = load_xdf('sub-P001_ses-S001_task-Default_run-001_eeg.xdf')"
   ]
  },
  {
   "cell_type": "code",
   "execution_count": 3,
   "metadata": {},
   "outputs": [],
   "source": [
    "type_dict = {data[i]['info']['type'][0]: i for i in range(len(data))}\n",
    "EEG = type_dict['EEG']\n",
    "MARKER = type_dict['Markers']"
   ]
  },
  {
   "cell_type": "markdown",
   "metadata": {},
   "source": [
    "The actiCHamp stream included a marker channel at index 1, which represents the 8-bit trigger values of the TTL pulse as a floating point."
   ]
  },
  {
   "cell_type": "code",
   "execution_count": 4,
   "metadata": {},
   "outputs": [],
   "source": [
    "hardware_events = data[EEG]['time_stamps'][data[EEG]['time_series'][:,1] == 255.]\n",
    "software_events = data[MARKER]['time_stamps']"
   ]
  },
  {
   "cell_type": "code",
   "execution_count": 5,
   "metadata": {},
   "outputs": [],
   "source": [
    "software_events = software_events[1:] # an event was dropped from EEG for some reason"
   ]
  },
  {
   "cell_type": "markdown",
   "metadata": {},
   "source": [
    "The timestamps provided by RTBox in the marker stream serve as the \"real\" event time, which allows us to calculate the lag between the event time and when the event is registered by the actiCHamp client -- the delay of the actiCHamp system."
   ]
  },
  {
   "cell_type": "code",
   "execution_count": 6,
   "metadata": {},
   "outputs": [],
   "source": [
    "lags = hardware_events - software_events"
   ]
  },
  {
   "cell_type": "code",
   "execution_count": 7,
   "metadata": {},
   "outputs": [
    {
     "data": {
      "text/plain": [
       "2.4561026087607702"
      ]
     },
     "execution_count": 7,
     "metadata": {},
     "output_type": "execute_result"
    }
   ],
   "source": [
    "np.mean(lags * 1e3) # lag in milliseconds"
   ]
  },
  {
   "cell_type": "code",
   "execution_count": 8,
   "metadata": {},
   "outputs": [
    {
     "data": {
      "text/plain": [
       "0.031924091819245284"
      ]
     },
     "execution_count": 8,
     "metadata": {},
     "output_type": "execute_result"
    }
   ],
   "source": [
    "np.std(lags * 1e3) # jitter in milliseconds"
   ]
  }
 ],
 "metadata": {
  "kernelspec": {
   "display_name": "Python 3",
   "language": "python",
   "name": "python3"
  },
  "language_info": {
   "codemirror_mode": {
    "name": "ipython",
    "version": 3
   },
   "file_extension": ".py",
   "mimetype": "text/x-python",
   "name": "python",
   "nbconvert_exporter": "python",
   "pygments_lexer": "ipython3",
   "version": "3.6.10"
  }
 },
 "nbformat": 4,
 "nbformat_minor": 2
}
